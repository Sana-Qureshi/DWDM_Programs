{
 "cells": [
  {
   "cell_type": "code",
   "execution_count": null,
   "id": "78e4f981",
   "metadata": {},
   "outputs": [],
   "source": [
    "def Load_data():\n",
    "    baskets_data = [\n",
    "        ['kruh', 'mleko'],\n",
    "        ['kruh', 'plenice', 'union'],\n",
    "        ['mleko', 'plenice', 'union'],\n",
    "        ['kruh', 'mleko', 'plenice', 'union'],\n",
    "        ['kruh', 'mleko', 'plenice'],\n",
    "        ['mleko', 'plenice'],\n",
    "        ['plenice'],\n",
    "        ['mleko', 'union', 'plenice'],\n",
    "        ['plenice', 'union'],\n",
    "        ['mleko', 'plenice', 'union'],\n",
    "    ]\n",
    "    return baskets_data\n",
    "def createC1(data):\n",
    "    \"\"\"\n",
    "    Create a list of unique items in transaction data.\n",
    "    Represent each item as a set of length 1.\n",
    "    \"\"\"\n",
    "    C1 = []\n",
    "    for transaction in data:\n",
    "        for item in transaction:\n",
    "            if not [item] in C1:\n",
    "                C1.append([item])\n",
    "    C1.sort()\n",
    "    \n",
    "    # create a set for each item in C1\n",
    "    return [set(x) for x in C1]\n",
    "def createCk(Lk, k):\n",
    "    \"\"\"\n",
    "    Create a list of candidates of length k.\n",
    "    \n",
    "    Arguments:\n",
    "       Lk: a list of frequent itemsets\n",
    "       k: the size of the itemsets\n",
    "    \n",
    "    \"\"\"\n",
    "    cand_list = []\n",
    "    len_Lk = len(Lk)\n",
    "    \n",
    "    # join sets if first k-2 items are equal\n",
    "    for i in range(len_Lk):\n",
    "        for j in range(i+1, len_Lk):\n",
    "            L1 = list(Lk[i])[:k-2]\n",
    "            L2 = list(Lk[j])[:k-2]\n",
    "            L1.sort()\n",
    "            L2.sort()\n",
    "            if L1==L2:\n",
    "                cand_list.append(Lk[i] | Lk[j])\n",
    "    \n",
    "    return cand_list\n",
    "def scanD(data, Ck, min_support):\n",
    "    \"\"\"\n",
    "    Scan through transaction data and return a list of candidates that meet\n",
    "    the support threshold, and support data about the current candidates.\n",
    "    \n",
    "    Arguments:\n",
    "       data: data set,\n",
    "       Ck: a list of candidate sets\n",
    "       min_support: the minimum support\n",
    "    \"\"\"\n",
    "    count = {}\n",
    "    for transaction in data:\n",
    "        tr = set(transaction)\n",
    "        for candidate in Ck:\n",
    "            if candidate.issubset(tr):\n",
    "                can = frozenset(candidate)\n",
    "                if can not in count:\n",
    "                    count[can] = 1\n",
    "                else:\n",
    "                    count[can] += 1\n",
    "                    num_items = float(len(D))\n",
    "    \n",
    "    cand_list = []\n",
    "    support_data = {}\n",
    "    \n",
    "    # calculate support for every itemset\n",
    "    for key in count:\n",
    "        support = count[key]/num_items\n",
    "        \n",
    "        # If the support meets the minimum support requirements, \n",
    "        # add it to the list of itemsets.\n",
    "        if support >= min_support:\n",
    "            cand_list.insert(0, key)\n",
    "        support_data[key] = support\n",
    "    \n",
    "    return cand_list, support_data\n",
    "min_support = 0.5\n",
    "data = Load_data()\n",
    "data\n"
   ]
  },
  {
   "cell_type": "code",
   "execution_count": null,
   "id": "ded874c5",
   "metadata": {},
   "outputs": [],
   "source": [
    "C1 = createC1(data)\n",
    "C1"
   ]
  },
  {
   "cell_type": "code",
   "execution_count": null,
   "id": "e8de8a8e",
   "metadata": {},
   "outputs": [],
   "source": [
    "D = list(map(set, data))\n",
    "D"
   ]
  },
  {
   "cell_type": "code",
   "execution_count": null,
   "id": "398d0eb9",
   "metadata": {},
   "outputs": [],
   "source": [
    "L1, support_data1 = scanD(D, C1, min_support)\n",
    "L1"
   ]
  },
  {
   "cell_type": "code",
   "execution_count": null,
   "id": "ff9f1fdc",
   "metadata": {},
   "outputs": [],
   "source": [
    "support_data1"
   ]
  },
  {
   "cell_type": "code",
   "execution_count": null,
   "id": "07260cc9",
   "metadata": {},
   "outputs": [],
   "source": [
    "C2 = createCk(L1, k=2)\n",
    "C2"
   ]
  },
  {
   "cell_type": "code",
   "execution_count": null,
   "id": "c1a898b2",
   "metadata": {},
   "outputs": [],
   "source": [
    "L2, support_data2 = scanD(D, C2, min_support)\n",
    "L2"
   ]
  },
  {
   "cell_type": "code",
   "execution_count": null,
   "id": "999dff9a",
   "metadata": {},
   "outputs": [],
   "source": [
    "support_data2"
   ]
  },
  {
   "cell_type": "code",
   "execution_count": null,
   "id": "77e3576c",
   "metadata": {},
   "outputs": [],
   "source": [
    "C3 = createCk(L2, k=3)\n",
    "C3"
   ]
  },
  {
   "cell_type": "code",
   "execution_count": null,
   "id": "313c6cc7",
   "metadata": {},
   "outputs": [],
   "source": [
    "L3, support_data3 = scanD(D, C3, min_support)\n",
    "L3"
   ]
  },
  {
   "cell_type": "code",
   "execution_count": null,
   "id": "b5d03529",
   "metadata": {},
   "outputs": [],
   "source": [
    "support_data3"
   ]
  },
  {
   "cell_type": "code",
   "execution_count": null,
   "id": "233359f2",
   "metadata": {},
   "outputs": [],
   "source": []
  },
  {
   "cell_type": "code",
   "execution_count": null,
   "id": "bd18d419",
   "metadata": {},
   "outputs": [],
   "source": []
  },
  {
   "cell_type": "code",
   "execution_count": null,
   "id": "5147c334",
   "metadata": {},
   "outputs": [],
   "source": []
  }
 ],
 "metadata": {
  "kernelspec": {
   "display_name": "Python 3 (ipykernel)",
   "language": "python",
   "name": "python3"
  },
  "language_info": {
   "codemirror_mode": {
    "name": "ipython",
    "version": 3
   },
   "file_extension": ".py",
   "mimetype": "text/x-python",
   "name": "python",
   "nbconvert_exporter": "python",
   "pygments_lexer": "ipython3",
   "version": "3.9.7"
  }
 },
 "nbformat": 4,
 "nbformat_minor": 5
}
