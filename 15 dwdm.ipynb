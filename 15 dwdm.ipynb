{
 "cells": [
  {
   "cell_type": "code",
   "execution_count": 20,
   "id": "2f7bd19b",
   "metadata": {},
   "outputs": [
    {
     "data": {
      "image/png": "[encoded data removed]",
      "text/plain": [
       "<Figure size 432x288 with 1 Axes>"
      ]
     },
     "metadata": {
      "needs_background": "light"
     },
     "output_type": "display_data"
    }
   ],
   "source": [
    "# 15 dwdm birch clustering\n",
    "from numpy import unique\n",
    "from numpy import where\n",
    "from sklearn.datasets import make_classification\n",
    "from sklearn.cluster import Birch\n",
    "from matplotlib import pyplot\n",
    "\n",
    "X, _ = make_classification(n_samples=1000, n_features=2, n_informative=2, n_redundant=0, n_clusters_per_class=1, random_state=4)\n",
    "\n",
    "model = Birch(threshold=0.01, n_clusters=2)\n",
    "model.fit(X)\n",
    "\n",
    "yhat = model.predict(X)\n",
    "\n",
    "clusters = unique(yhat)\n",
    "\n",
    "for cluster in clusters:\n",
    "\n",
    "\trow_ix = where(yhat == cluster)\n",
    "\n",
    "\tpyplot.scatter(X[row_ix, 0], X[row_ix, 1])\n",
    "\n",
    "pyplot.show()"
   ]
  },
  {
   "cell_type": "code",
   "execution_count": 4,
   "id": "ce54a7f6",
   "metadata": {},
   "outputs": [
    {
     "data": {
      "image/png": "[encoded data removed]",
      "text/plain": [
       "<Figure size 432x288 with 1 Axes>"
      ]
     },
     "metadata": {
      "needs_background": "light"
     },
     "output_type": "display_data"
    }
   ],
   "source": [
    "# synthetic classification dataset\n",
    "from numpy import where\n",
    "from sklearn.datasets import make_classification\n",
    "from matplotlib import pyplot\n",
    "# define dataset\n",
    "X, y = make_classification(n_samples=1000, n_features=2, n_informative=2, n_redundant=0, n_clusters_per_class=1, random_state=4)\n",
    "# create scatter plot for samples from each class\n",
    "for class_value in range(2):\n",
    "\t# get row indexes for samples with this class\n",
    "\trow_ix = where(y == class_value)\n",
    "\t# create scatter of these samples\n",
    "\tpyplot.scatter(X[row_ix, 0], X[row_ix, 1])\n",
    "# show the plot\n",
    "pyplot.show()"
   ]
  },
  {
   "cell_type": "code",
   "execution_count": 5,
   "id": "499072d3",
   "metadata": {},
   "outputs": [
    {
     "data": {
      "text/plain": [
       "[['kruh', 'mleko'],\n",
       " ['kruh', 'plenice', 'union'],\n",
       " ['mleko', 'plenice', 'union'],\n",
       " ['kruh', 'mleko', 'plenice', 'union'],\n",
       " ['kruh', 'mleko', 'plenice'],\n",
       " ['mleko', 'plenice'],\n",
       " ['plenice'],\n",
       " ['mleko', 'union', 'plenice'],\n",
       " ['plenice', 'union'],\n",
       " ['mleko', 'plenice', 'union']]"
      ]
     },
     "execution_count": 5,
     "metadata": {},
     "output_type": "execute_result"
    }
   ],
   "source": [
    "def Load_data():\n",
    "    baskets_data = [\n",
    "        ['kruh', 'mleko'],\n",
    "        ['kruh', 'plenice', 'union'],\n",
    "        ['mleko', 'plenice', 'union'],\n",
    "        ['kruh', 'mleko', 'plenice', 'union'],\n",
    "        ['kruh', 'mleko', 'plenice'],\n",
    "        ['mleko', 'plenice'],\n",
    "        ['plenice'],\n",
    "        ['mleko', 'union', 'plenice'],\n",
    "        ['plenice', 'union'],\n",
    "        ['mleko', 'plenice', 'union'],\n",
    "    ]\n",
    "    return baskets_data\n",
    "def createC1(data):\n",
    "    \"\"\"\n",
    "    Create a list of unique items in transaction data.\n",
    "    Represent each item as a set of length 1.\n",
    "    \"\"\"\n",
    "    C1 = []\n",
    "    for transaction in data:\n",
    "        for item in transaction:\n",
    "            if not [item] in C1:\n",
    "                C1.append([item])\n",
    "    C1.sort()\n",
    "    \n",
    "    # create a set for each item in C1\n",
    "    return [set(x) for x in C1]\n",
    "def createCk(Lk, k):\n",
    "    \"\"\"\n",
    "    Create a list of candidates of length k.\n",
    "    \n",
    "    Arguments:\n",
    "       Lk: a list of frequent itemsets\n",
    "       k: the size of the itemsets\n",
    "    \n",
    "    \"\"\"\n",
    "    cand_list = []\n",
    "    len_Lk = len(Lk)\n",
    "    \n",
    "    # join sets if first k-2 items are equal\n",
    "    for i in range(len_Lk):\n",
    "        for j in range(i+1, len_Lk):\n",
    "            L1 = list(Lk[i])[:k-2]\n",
    "            L2 = list(Lk[j])[:k-2]\n",
    "            L1.sort()\n",
    "            L2.sort()\n",
    "            if L1==L2:\n",
    "                cand_list.append(Lk[i] | Lk[j])\n",
    "    \n",
    "    return cand_list\n",
    "def scanD(data, Ck, min_support):\n",
    "    \"\"\"\n",
    "    Scan through transaction data and return a list of candidates that meet\n",
    "    the support threshold, and support data about the current candidates.\n",
    "    \n",
    "    Arguments:\n",
    "       data: data set,\n",
    "       Ck: a list of candidate sets\n",
    "       min_support: the minimum support\n",
    "    \"\"\"\n",
    "    count = {}\n",
    "    for transaction in data:\n",
    "        tr = set(transaction)\n",
    "        for candidate in Ck:\n",
    "            if candidate.issubset(tr):\n",
    "                can = frozenset(candidate)\n",
    "                if can not in count:\n",
    "                    count[can] = 1\n",
    "                else:\n",
    "                    count[can] += 1\n",
    "                    num_items = float(len(D))\n",
    "    \n",
    "    cand_list = []\n",
    "    support_data = {}\n",
    "    \n",
    "    # calculate support for every itemset\n",
    "    for key in count:\n",
    "        support = count[key]/num_items\n",
    "        \n",
    "        # If the support meets the minimum support requirements, \n",
    "        # add it to the list of itemsets.\n",
    "        if support >= min_support:\n",
    "            cand_list.insert(0, key)\n",
    "        support_data[key] = support\n",
    "    \n",
    "    return cand_list, support_data\n",
    "min_support = 0.5\n",
    "data = Load_data()\n",
    "data\n"
   ]
  },
  {
   "cell_type": "code",
   "execution_count": 6,
   "id": "5888cb98",
   "metadata": {},
   "outputs": [
    {
     "data": {
      "text/plain": [
       "[{'kruh'}, {'mleko'}, {'plenice'}, {'union'}]"
      ]
     },
     "execution_count": 6,
     "metadata": {},
     "output_type": "execute_result"
    }
   ],
   "source": [
    "C1 = createC1(data)\n",
    "C1"
   ]
  },
  {
   "cell_type": "code",
   "execution_count": 7,
   "id": "76d2c19a",
   "metadata": {},
   "outputs": [
    {
     "data": {
      "text/plain": [
       "[{'kruh', 'mleko'},\n",
       " {'kruh', 'plenice', 'union'},\n",
       " {'mleko', 'plenice', 'union'},\n",
       " {'kruh', 'mleko', 'plenice', 'union'},\n",
       " {'kruh', 'mleko', 'plenice'},\n",
       " {'mleko', 'plenice'},\n",
       " {'plenice'},\n",
       " {'mleko', 'plenice', 'union'},\n",
       " {'plenice', 'union'},\n",
       " {'mleko', 'plenice', 'union'}]"
      ]
     },
     "execution_count": 7,
     "metadata": {},
     "output_type": "execute_result"
    }
   ],
   "source": [
    "D = list(map(set, data))\n",
    "D"
   ]
  },
  {
   "cell_type": "code",
   "execution_count": 8,
   "id": "37c9f2b0",
   "metadata": {},
   "outputs": [],
   "source": [
    "L1, support_data1 = scanD(D, C1, min_support)"
   ]
  },
  {
   "cell_type": "code",
   "execution_count": 9,
   "id": "e9abfa4b",
   "metadata": {},
   "outputs": [
    {
     "data": {
      "text/plain": [
       "[frozenset({'union'}), frozenset({'plenice'}), frozenset({'mleko'})]"
      ]
     },
     "execution_count": 9,
     "metadata": {},
     "output_type": "execute_result"
    }
   ],
   "source": [
    "L1"
   ]
  },
  {
   "cell_type": "code",
   "execution_count": 10,
   "id": "6e4735fc",
   "metadata": {},
   "outputs": [
    {
     "data": {
      "text/plain": [
       "{frozenset({'kruh'}): 0.4,\n",
       " frozenset({'mleko'}): 0.7,\n",
       " frozenset({'plenice'}): 0.9,\n",
       " frozenset({'union'}): 0.6}"
      ]
     },
     "execution_count": 10,
     "metadata": {},
     "output_type": "execute_result"
    }
   ],
   "source": [
    "support_data1"
   ]
  },
  {
   "cell_type": "code",
   "execution_count": 11,
   "id": "5164df48",
   "metadata": {},
   "outputs": [
    {
     "data": {
      "text/plain": [
       "[frozenset({'plenice', 'union'}),\n",
       " frozenset({'mleko', 'union'}),\n",
       " frozenset({'mleko', 'plenice'})]"
      ]
     },
     "execution_count": 11,
     "metadata": {},
     "output_type": "execute_result"
    }
   ],
   "source": [
    "C2 = createCk(L1, k=2)\n",
    "C2"
   ]
  },
  {
   "cell_type": "code",
   "execution_count": 12,
   "id": "f864ee6f",
   "metadata": {},
   "outputs": [],
   "source": [
    "L2, support_data2 = scanD(D, C2, min_support)"
   ]
  },
  {
   "cell_type": "code",
   "execution_count": 13,
   "id": "278dca93",
   "metadata": {},
   "outputs": [
    {
     "data": {
      "text/plain": [
       "[frozenset({'mleko', 'plenice'}), frozenset({'plenice', 'union'})]"
      ]
     },
     "execution_count": 13,
     "metadata": {},
     "output_type": "execute_result"
    }
   ],
   "source": [
    "L2"
   ]
  },
  {
   "cell_type": "code",
   "execution_count": 14,
   "id": "36c9c3ad",
   "metadata": {},
   "outputs": [
    {
     "data": {
      "text/plain": [
       "{frozenset({'plenice', 'union'}): 0.6,\n",
       " frozenset({'mleko', 'union'}): 0.4,\n",
       " frozenset({'mleko', 'plenice'}): 0.6}"
      ]
     },
     "execution_count": 14,
     "metadata": {},
     "output_type": "execute_result"
    }
   ],
   "source": [
    "support_data2"
   ]
  },
  {
   "cell_type": "code",
   "execution_count": 15,
   "id": "a61e8391",
   "metadata": {},
   "outputs": [
    {
     "data": {
      "text/plain": [
       "[frozenset({'mleko', 'plenice', 'union'})]"
      ]
     },
     "execution_count": 15,
     "metadata": {},
     "output_type": "execute_result"
    }
   ],
   "source": [
    "C3 = createCk(L2, k=3)\n",
    "C3"
   ]
  },
  {
   "cell_type": "code",
   "execution_count": 16,
   "id": "8f01cc72",
   "metadata": {},
   "outputs": [
    {
     "data": {
      "text/plain": [
       "[]"
      ]
     },
     "execution_count": 16,
     "metadata": {},
     "output_type": "execute_result"
    }
   ],
   "source": [
    "L3, support_data3 = scanD(D, C3, min_support)\n",
    "L3"
   ]
  },
  {
   "cell_type": "code",
   "execution_count": 17,
   "id": "cdb5199e",
   "metadata": {},
   "outputs": [
    {
     "data": {
      "text/plain": [
       "{frozenset({'mleko', 'plenice', 'union'}): 0.4}"
      ]
     },
     "execution_count": 17,
     "metadata": {},
     "output_type": "execute_result"
    }
   ],
   "source": [
    "support_data3"
   ]
  },
  {
   "cell_type": "code",
   "execution_count": 18,
   "id": "0cd8117e",
   "metadata": {},
   "outputs": [],
   "source": [
    "# Apriori end"
   ]
  },
  {
   "cell_type": "code",
   "execution_count": null,
   "id": "48017203",
   "metadata": {},
   "outputs": [],
   "source": []
  }
 ],
 "metadata": {
  "kernelspec": {
   "display_name": "Python 3 (ipykernel)",
   "language": "python",
   "name": "python3"
  },
  "language_info": {
   "codemirror_mode": {
    "name": "ipython",
    "version": 3
   },
   "file_extension": ".py",
   "mimetype": "text/x-python",
   "name": "python",
   "nbconvert_exporter": "python",
   "pygments_lexer": "ipython3",
   "version": "3.9.7"
  }
 },
 "nbformat": 4,
 "nbformat_minor": 5
}
