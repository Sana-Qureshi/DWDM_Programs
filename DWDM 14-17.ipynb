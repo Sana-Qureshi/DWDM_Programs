{
 "cells": [
  {
   "cell_type": "code",
   "execution_count": 5,
   "id": "e929c1a1",
   "metadata": {},
   "outputs": [
    {
     "name": "stdout",
     "output_type": "stream",
     "text": [
      "*********Training data*********\n",
      "      Name  Age  Income($)\n",
      "0      Rob   27      70000\n",
      "1  Michael   29      90000\n",
      "2    Mohan   29      61000\n",
      "3   Ismail   28      60000\n",
      "4     Kory   42     150000\n",
      "\n",
      "\n"
     ]
    },
    {
     "data": {
      "image/png": "[encoded data removed]",
      "text/plain": [
       "<Figure size 432x288 with 1 Axes>"
      ]
     },
     "metadata": {
      "needs_background": "light"
     },
     "output_type": "display_data"
    }
   ],
   "source": [
    "#  practical of K means\n",
    "from sklearn.cluster import KMeans\n",
    "import pandas as pd\n",
    "from sklearn.preprocessing import MinMaxScaler\n",
    "from matplotlib import pyplot as plt\n",
    "\n",
    "df = pd.read_csv(\"C:\\\\Users\\\\Sana\\\\Downloads\\\\income.csv\")\n",
    "print(\"*********Training data*********\")\n",
    "print(df.head())\n",
    "print(\"\\n\")\n",
    "\n",
    "plt.scatter(df.Age,df['Income($)'])\n",
    "plt.xlabel('Age')\n",
    "plt.ylabel('Income($)')\n",
    "plt.show()\n",
    "\n"
   ]
  },
  {
   "cell_type": "code",
   "execution_count": 6,
   "id": "7cb88173",
   "metadata": {},
   "outputs": [
    {
     "name": "stdout",
     "output_type": "stream",
     "text": [
      "Predicted values of cluster:  [0 0 2 2 1 1 1 1 1 1 1 2 2 2 2 2 2 2 2 0 0 2]\n",
      "*********Training dataset with clusters*********\n",
      "      Name  Age  Income($)  cluster\n",
      "0      Rob   27      70000        0\n",
      "1  Michael   29      90000        0\n",
      "2    Mohan   29      61000        2\n",
      "3   Ismail   28      60000        2\n",
      "4     Kory   42     150000        1\n",
      "Centroids are : [[3.40000000e+01 8.05000000e+04]\n",
      " [3.82857143e+01 1.50000000e+05]\n",
      " [3.29090909e+01 5.61363636e+04]]\n"
     ]
    },
    {
     "data": {
      "image/png": "[encoded data removed]",
      "text/plain": [
       "<Figure size 432x288 with 1 Axes>"
      ]
     },
     "metadata": {
      "needs_background": "light"
     },
     "output_type": "display_data"
    }
   ],
   "source": [
    "km = KMeans(n_clusters=3)\n",
    "y_predicted = km.fit_predict(df[['Age','Income($)']])\n",
    "print(\"Predicted values of cluster: \",y_predicted)\n",
    "\n",
    "df['cluster']=y_predicted\n",
    "print(\"*********Training dataset with clusters*********\")\n",
    "print(df.head())\n",
    "\n",
    "print(\"Centroids are :\",km.cluster_centers_)\n",
    "\n",
    "df1 = df[df.cluster==0]\n",
    "df2 = df[df.cluster==1]\n",
    "df3 = df[df.cluster==2]\n",
    "plt.scatter(df1.Age,df1['Income($)'],color='green')\n",
    "plt.scatter(df2.Age,df2['Income($)'],color='red')\n",
    "plt.scatter(df3.Age,df3['Income($)'],color='black')\n",
    "plt.scatter(km.cluster_centers_[:,0],km.cluster_centers_[:,1],color='purple',marker='*',label='centroid')\n",
    "plt.xlabel('Age')\n",
    "plt.ylabel('Income ($)')\n",
    "plt.legend()\n",
    "plt.show()\n",
    "\n"
   ]
  },
  {
   "cell_type": "code",
   "execution_count": 8,
   "id": "4dddfb0d",
   "metadata": {},
   "outputs": [
    {
     "name": "stdout",
     "output_type": "stream",
     "text": [
      "*********Training dataset with clusters*********\n",
      "      Name       Age  Income($)  cluster\n",
      "0      Rob  0.058824   0.213675        1\n",
      "1  Michael  0.176471   0.384615        1\n",
      "2    Mohan  0.176471   0.136752        1\n",
      "3   Ismail  0.117647   0.128205        1\n",
      "4     Kory  0.941176   0.897436        0\n",
      "<matplotlib.collections.PathCollection object at 0x0000016B019169A0>\n",
      "Predicted clusters:  [1 1 1 1 0 0 0 0 0 0 0 1 1 1 1 1 2 2 2 2 2 2]\n",
      "*********Testing dataset with clusters*********\n",
      "      Name       Age  Income($)  cluster\n",
      "0      Rob  0.058824   0.213675        1\n",
      "1  Michael  0.176471   0.384615        1\n",
      "2    Mohan  0.176471   0.136752        1\n",
      "3   Ismail  0.117647   0.128205        1\n",
      "4     Kory  0.941176   0.897436        0\n"
     ]
    },
    {
     "data": {
      "image/png": "[encoded data removed]",
      "text/plain": [
       "<Figure size 432x288 with 1 Axes>"
      ]
     },
     "metadata": {
      "needs_background": "light"
     },
     "output_type": "display_data"
    }
   ],
   "source": [
    "scaler = MinMaxScaler()\n",
    "\n",
    "scaler.fit(df[['Income($)']])\n",
    "df['Income($)'] = scaler.transform(df[['Income($)']])\n",
    "\n",
    "scaler.fit(df[['Age']])\n",
    "df['Age'] = scaler.transform(df[['Age']])\n",
    "\n",
    "print(\"*********Training dataset with clusters*********\")\n",
    "print(df.head())\n",
    "\n",
    "print(plt.scatter(df.Age,df['Income($)']))\n",
    "\n",
    "km = KMeans(n_clusters=3)\n",
    "y_predicted = km.fit_predict(df[['Age','Income($)']])\n",
    "print(\"Predicted clusters: \",y_predicted)\n",
    "\n",
    "df['cluster']=y_predicted\n",
    "print(\"*********Testing dataset with clusters*********\")\n",
    "print(df.head())\n",
    "\n",
    "\n"
   ]
  },
  {
   "cell_type": "code",
   "execution_count": 9,
   "id": "1b0a2d4b",
   "metadata": {},
   "outputs": [
    {
     "name": "stdout",
     "output_type": "stream",
     "text": [
      "Centroids are: [[0.72268908 0.8974359 ]\n",
      " [0.1372549  0.11633428]\n",
      " [0.85294118 0.2022792 ]]\n"
     ]
    },
    {
     "data": {
      "image/png": "[encoded data removed]",
      "text/plain": [
       "<Figure size 432x288 with 1 Axes>"
      ]
     },
     "metadata": {
      "needs_background": "light"
     },
     "output_type": "display_data"
    },
    {
     "name": "stderr",
     "output_type": "stream",
     "text": [
      "C:\\Users\\Sana\\anaconda3\\lib\\site-packages\\sklearn\\cluster\\_kmeans.py:881: UserWarning: KMeans is known to have a memory leak on Windows with MKL, when there are less chunks than available threads. You can avoid it by setting the environment variable OMP_NUM_THREADS=1.\n",
      "  warnings.warn(\n"
     ]
    },
    {
     "data": {
      "image/png": "[encoded data removed]",
      "text/plain": [
       "<Figure size 432x288 with 1 Axes>"
      ]
     },
     "metadata": {
      "needs_background": "light"
     },
     "output_type": "display_data"
    }
   ],
   "source": [
    "print(\"Centroids are:\",km.cluster_centers_)\n",
    "df1 = df[df.cluster==0]\n",
    "df2 = df[df.cluster==1]\n",
    "df3 = df[df.cluster==2]\n",
    "plt.scatter(df1.Age,df1['Income($)'],color='green')\n",
    "plt.scatter(df2.Age,df2['Income($)'],color='red')\n",
    "plt.scatter(df3.Age,df3['Income($)'],color='black')\n",
    "plt.scatter(km.cluster_centers_[:,0],km.cluster_centers_[:,1],color='purple',marker='*',label='centroid')\n",
    "plt.legend()\n",
    "plt.show()\n",
    "\n",
    "sse = []\n",
    "k_rng = range(1,10)\n",
    "for k in k_rng:\n",
    "    km = KMeans(n_clusters=k)\n",
    "    km.fit(df[['Age','Income($)']])\n",
    "    sse.append(km.inertia_)\n",
    "    plt.xlabel('K')\n",
    "plt.ylabel('Sum of squared error')\n",
    "plt.plot(k_rng,sse)\n",
    "plt.show()"
   ]
  },
  {
   "cell_type": "code",
   "execution_count": 8,
   "id": "48e9bb0c",
   "metadata": {},
   "outputs": [
    {
     "data": {
      "image/png": "[encoded data removed]",
      "text/plain": [
       "<Figure size 432x288 with 1 Axes>"
      ]
     },
     "metadata": {
      "needs_background": "light"
     },
     "output_type": "display_data"
    }
   ],
   "source": [
    "# 15 dwdm birch clustering\n",
    "from numpy import unique\n",
    "from numpy import where\n",
    "from sklearn.datasets import make_classification\n",
    "from sklearn.cluster import Birch\n",
    "from matplotlib import pyplot\n",
    "\n",
    "X, _ = make_classification(n_samples=1000, n_features=2, n_informative=2, n_redundant=0, n_clusters_per_class=1, random_state=4)\n",
    "\n",
    "model = Birch(threshold=0.01, n_clusters=2)\n",
    "model.fit(X)\n",
    "\n",
    "yhat = model.predict(X)\n",
    "\n",
    "clusters = unique(yhat)\n",
    "\n",
    "for cluster in clusters:\n",
    "\n",
    "\trow_ix = where(yhat == cluster)\n",
    "\n",
    "\tpyplot.scatter(X[row_ix, 0], X[row_ix, 1])\n",
    "\n",
    "pyplot.show()"
   ]
  },
  {
   "cell_type": "code",
   "execution_count": 1,
   "id": "21be15dc",
   "metadata": {},
   "outputs": [
    {
     "name": "stdout",
     "output_type": "stream",
     "text": [
      "Note: you may need to restart the kernel to use updated packages.\n"
     ]
    },
    {
     "name": "stderr",
     "output_type": "stream",
     "text": [
      "ERROR: Could not find a version that satisfies the requirement sklearn.datasets.samples_generator (from versions: none)\n",
      "ERROR: No matching distribution found for sklearn.datasets.samples_generator\n"
     ]
    }
   ],
   "source": [
    "pip install sklearn.datasets.samples_generator"
   ]
  },
  {
   "cell_type": "code",
   "execution_count": 1,
   "id": "2924d942",
   "metadata": {},
   "outputs": [
    {
     "ename": "ModuleNotFoundError",
     "evalue": "No module named 'sklearn.datasets.samples_generator'",
     "output_type": "error",
     "traceback": [
      "\u001b[1;31m---------------------------------------------------------------------------\u001b[0m",
      "\u001b[1;31mModuleNotFoundError\u001b[0m                       Traceback (most recent call last)",
      "\u001b[1;32m~\\AppData\\Local\\Temp/ipykernel_12696/2651709667.py\u001b[0m in \u001b[0;36m<module>\u001b[1;34m\u001b[0m\n\u001b[0;32m      1\u001b[0m \u001b[1;32mimport\u001b[0m \u001b[0mmatplotlib\u001b[0m\u001b[1;33m.\u001b[0m\u001b[0mpyplot\u001b[0m \u001b[1;32mas\u001b[0m \u001b[0mplt\u001b[0m\u001b[1;33m\u001b[0m\u001b[1;33m\u001b[0m\u001b[0m\n\u001b[1;32m----> 2\u001b[1;33m \u001b[1;32mfrom\u001b[0m \u001b[0msklearn\u001b[0m\u001b[1;33m.\u001b[0m\u001b[0mdatasets\u001b[0m\u001b[1;33m.\u001b[0m\u001b[0msamples_generator\u001b[0m \u001b[1;32mimport\u001b[0m \u001b[0mmake_blobs\u001b[0m\u001b[1;33m\u001b[0m\u001b[1;33m\u001b[0m\u001b[0m\n\u001b[0m\u001b[0;32m      3\u001b[0m \u001b[1;32mfrom\u001b[0m \u001b[0msklearn\u001b[0m\u001b[1;33m.\u001b[0m\u001b[0mcluster\u001b[0m \u001b[1;32mimport\u001b[0m \u001b[0mBirch\u001b[0m\u001b[1;33m\u001b[0m\u001b[1;33m\u001b[0m\u001b[0m\n\u001b[0;32m      4\u001b[0m \u001b[1;33m\u001b[0m\u001b[0m\n\u001b[0;32m      5\u001b[0m \u001b[1;31m# Generating 600 samples using make_blobs\u001b[0m\u001b[1;33m\u001b[0m\u001b[1;33m\u001b[0m\u001b[0m\n",
      "\u001b[1;31mModuleNotFoundError\u001b[0m: No module named 'sklearn.datasets.samples_generator'"
     ]
    }
   ],
   "source": [
    "\n",
    "import matplotlib.pyplot as plt\n",
    "from sklearn.datasets.samples_generator import make_blobs\n",
    "from sklearn.cluster import Birch\n",
    "  \n",
    "# Generating 600 samples using make_blobs\n",
    "dataset, clusters = make_blobs(n_samples = 600, centers = 8, cluster_std = 0.75, random_state = 0)\n",
    "  \n",
    "# Creating the BIRCH clustering model\n",
    "model = Birch(branching_factor = 50, n_clusters = None, threshold = 1.5)\n",
    "  \n",
    "# Fit the data (Training)\n",
    "model.fit(dataset)\n",
    "  \n",
    "# Predict the same data\n",
    "pred = model.predict(dataset)\n",
    "  \n",
    "# Creating a scatter plot\n",
    "plt.scatter(dataset[:, 0], dataset[:, 1], c = pred, cmap = 'rainbow', alpha = 0.7, edgecolors = 'b')\n",
    "plt.show()"
   ]
  },
  {
   "cell_type": "code",
   "execution_count": null,
   "id": "8bea2b78",
   "metadata": {},
   "outputs": [],
   "source": []
  },
  {
   "cell_type": "code",
   "execution_count": null,
   "id": "41003691",
   "metadata": {},
   "outputs": [],
   "source": [
    "from pyclustering.cluster import cluster_visualizer,cluster_visualizer_multidim\n",
    "from pyclustering.cluster.rock import rock;\n",
    "from pyclustering.utils import read_sample;\n",
    "from random import random;\n",
    "data = [ [random()] for i in range(10) ] + [ [random() + 3] for i in range(10) ] + [ [random() + 5] for i in range(10) ] + [ [random() + 8] for i in range(10) ]\n",
    "print(data)\n",
    "rock_instance = rock(data, 1, 4, 0.5);\n",
    "rock_instance.process();\n",
    "clusters = rock_instance.get_clusters();\n",
    "visualizer = cluster_visualizer()\n",
    "visualizer.append_clusters(clusters, data)\n",
    "visualizer.show();\n",
    "from pyclustering.samples.definitions import FCPS_SAMPLES\n",
    "from pyclustering.utils import read_sample\n",
    "data = read_sample(FCPS_SAMPLES.SAMPLE_HEPTA)\n",
    "# Create an instance of the ROCK algorithm for cluster analysis. Seven clusters should be allocated.\n",
    "rock = rock(data, 1.0, 7)\n",
    " # Run cluster analysis.\n",
    "rock.process()\n",
    "# Obtain results of clustering.\n",
    "clusters = rock.get_clusters()\n",
    "visualizer = cluster_visualizer()\n",
    "visualizer.append_clusters(clusters, data)\n",
    "visualizer.show();"
   ]
  },
  {
   "cell_type": "code",
   "execution_count": 10,
   "id": "1f78bb1e",
   "metadata": {},
   "outputs": [
    {
     "name": "stdout",
     "output_type": "stream",
     "text": [
      "[[0.8224626103045324], [0.3315185834291454], [0.7372975111829929], [0.3274420232143562], [0.37705928405534317], [0.6171526282087332], [0.2479557314086036], [0.44822812040810034], [0.042731009679035536], [0.6426136819473721], [3.7271055393564714], [3.927744178280806], [3.326599426236664], [3.800245195281734], [3.906985110256846], [3.279584820820747], [3.7408881854218263], [3.407813488722545], [3.710995555362665], [3.943214338006234], [5.597284428702407], [5.570557726853781], [5.150632334613259], [5.365099556266342], [5.598614951647419], [5.7929178776329415], [5.148819517641382], [5.833535919390376], [5.212146719402905], [5.924829073424702], [8.097835468480401], [8.450498034175332], [8.989501869184219], [8.036737201248158], [8.350632600930252], [8.139779474706044], [8.406020339980378], [8.362527592014347], [8.595195080057216], [8.79491400918948]]\n"
     ]
    }
   ],
   "source": [
    "from pyclustering.cluster import cluster_visualizer,cluster_visualizer_multidim\n",
    "from pyclustering.cluster.rock import rock;\n",
    "from pyclustering.utils import read_sample;\n",
    "from random import random;\n",
    "data = [ [random()] for i in range(10) ] + [ [random() + 3] for i in range(10) ] + [ [random() + 5] for i in range(10) ] + [ [random() + 8] for i in range(10) ]\n",
    "print(data)"
   ]
  },
  {
   "cell_type": "code",
   "execution_count": 5,
   "id": "5b2abab6",
   "metadata": {},
   "outputs": [
    {
     "data": {
      "image/png": "[encoded data removed]",
      "text/plain": [
       "<Figure size 432x288 with 1 Axes>"
      ]
     },
     "metadata": {
      "needs_background": "light"
     },
     "output_type": "display_data"
    }
   ],
   "source": [
    "rock_instance = rock(data, 1, 4, 0.5);\n",
    "rock_instance.process();\n",
    "clusters = rock_instance.get_clusters();\n",
    "visualizer = cluster_visualizer()\n",
    "visualizer.append_clusters(clusters, data)\n",
    "visualizer.show();"
   ]
  },
  {
   "cell_type": "code",
   "execution_count": 6,
   "id": "eb1b0ae7",
   "metadata": {},
   "outputs": [
    {
     "data": {
      "image/png": "[encoded data removed]",
      "text/plain": [
       "<Figure size 432x288 with 1 Axes>"
      ]
     },
     "metadata": {
      "needs_background": "light"
     },
     "output_type": "display_data"
    }
   ],
   "source": [
    "from pyclustering.samples.definitions import FCPS_SAMPLES\n",
    "from pyclustering.utils import read_sample\n",
    "data = read_sample(FCPS_SAMPLES.SAMPLE_HEPTA)\n",
    "# Create an instance of the ROCK algorithm for cluster analysis. Seven clusters should be allocated.\n",
    "rock = rock(data, 1.0, 7)\n",
    " # Run cluster analysis.\n",
    "rock.process()\n",
    "# Obtain results of clustering.\n",
    "clusters = rock.get_clusters()\n",
    "visualizer = cluster_visualizer()\n",
    "visualizer.append_clusters(clusters, data)\n",
    "visualizer.show();"
   ]
  },
  {
   "cell_type": "code",
   "execution_count": null,
   "id": "83951fec",
   "metadata": {},
   "outputs": [],
   "source": []
  },
  {
   "cell_type": "code",
   "execution_count": null,
   "id": "a029b314",
   "metadata": {},
   "outputs": [],
   "source": [
    "# 17th Apriori Algorithem"
   ]
  },
  {
   "cell_type": "code",
   "execution_count": 12,
   "id": "c853564a",
   "metadata": {},
   "outputs": [
    {
     "name": "stdout",
     "output_type": "stream",
     "text": [
      " Input Data Is :\n",
      " [['rice', 'pulse', 'oil'], ['pulse', 'oil', 'milk'], ['milk', 'apple'], ['rice', 'pulse', 'milk'], ['rice', 'pulse', 'oil', 'apple'], ['rice', 'pulse', 'oil', 'milk', 'apple']]\n",
      " \n",
      "Created list by acending order :\n",
      " [{'apple'}, {'milk'}, {'oil'}, {'pulse'}, {'rice'}]\n",
      " \n",
      "FrozenSet List:\n",
      "\n"
     ]
    },
    {
     "data": {
      "text/plain": [
       "[frozenset({'apple'}),\n",
       " frozenset({'milk'}),\n",
       " frozenset({'rice'}),\n",
       " frozenset({'pulse'}),\n",
       " frozenset({'oil'})]"
      ]
     },
     "execution_count": 12,
     "metadata": {},
     "output_type": "execute_result"
    }
   ],
   "source": [
    "def Load_data():\n",
    "    baskets_data = [\n",
    "        ['rice', 'pulse', 'oil'],\n",
    "        ['pulse', 'oil','milk'],\n",
    "        ['milk', 'apple'],\n",
    "        ['rice', 'pulse', 'milk'],\n",
    "        ['rice', 'pulse', 'oil', 'apple'],\n",
    "        ['rice', 'pulse', 'oil','milk', 'apple'],\n",
    "       \n",
    "    ]\n",
    "    return baskets_data\n",
    "def createC1(data):\n",
    "    \"\"\"\n",
    "    Create a list of unique items in transaction data.\n",
    "    Represent each item as a set of length 1.\n",
    "    \"\"\"\n",
    "    C1 = []\n",
    "    for transaction in data:\n",
    "        for item in transaction:\n",
    "            if not [item] in C1:\n",
    "                C1.append([item])\n",
    "    C1.sort()\n",
    "    \n",
    "    # create a set for each item in C1\n",
    "    return [set(x) for x in C1]\n",
    "def createCk(Lk, k):\n",
    "    \"\"\"\n",
    "    Create a list of candidates of length k.\n",
    "    \n",
    "    Arguments:\n",
    "       Lk: a list of frequent itemsets\n",
    "       k: the size of the itemsets\n",
    "    \n",
    "    \"\"\"\n",
    "    cand_list = []\n",
    "    len_Lk = len(Lk)\n",
    "    \n",
    "    # join sets if first k-2 items are equal\n",
    "    for i in range(len_Lk):\n",
    "        for j in range(i+1, len_Lk):\n",
    "            L1 = list(Lk[i])[:k-2]\n",
    "            L2 = list(Lk[j])[:k-2]\n",
    "            L1.sort()\n",
    "            L2.sort()\n",
    "            if L1==L2:\n",
    "                cand_list.append(Lk[i] | Lk[j])\n",
    "    \n",
    "    return cand_list\n",
    "def scanD(data, Ck, min_support):\n",
    "    \"\"\"\n",
    "    Scan through transaction data and return a list of candidates that meet\n",
    "    the support threshold, and support data about the current candidates.\n",
    "    \n",
    "    Arguments:\n",
    "       data: data set,\n",
    "       Ck: a list of candidate sets\n",
    "       min_support: the minimum support\n",
    "    \"\"\"\n",
    "    count = {}\n",
    "    for transaction in data:\n",
    "        tr = set(transaction)\n",
    "        for candidate in Ck:\n",
    "            if candidate.issubset(tr):\n",
    "                can = frozenset(candidate)\n",
    "                if can not in count:\n",
    "                    count[can] = 1\n",
    "                else:\n",
    "                    count[can] += 1\n",
    "                    num_items = float(len(D))\n",
    "    \n",
    "    cand_list = []\n",
    "    support_data = {}\n",
    "    \n",
    "    # calculate support for every itemset\n",
    "    for key in count:\n",
    "        support = count[key]/num_items\n",
    "        \n",
    "        # If the support meets the minimum support requirements, \n",
    "        # add it to the list of itemsets.\n",
    "        if support >= min_support:\n",
    "            cand_list.insert(0, key)\n",
    "        support_data[key] = support\n",
    "    \n",
    "    return cand_list, support_data\n",
    "min_support = 0.5\n",
    "data = Load_data()\n",
    "print(\" Input Data Is :\\n\",data)\n",
    "C1 = createC1(data)\n",
    "print(\" \\nCreated list by acending order :\\n\",C1)\n",
    "D = list(map(set, data))\n",
    "L1, support_data1 = scanD(D, C1, min_support)\n",
    "print(\" \\nFrozenSet List:\\n\")\n",
    "L1\n"
   ]
  },
  {
   "cell_type": "code",
   "execution_count": 29,
   "id": "50bb0109",
   "metadata": {},
   "outputs": [
    {
     "name": "stdout",
     "output_type": "stream",
     "text": [
      " Support: \n"
     ]
    },
    {
     "data": {
      "text/plain": [
       "{frozenset({'oil'}): 0.6666666666666666,\n",
       " frozenset({'pulse'}): 0.8333333333333334,\n",
       " frozenset({'rice'}): 0.6666666666666666,\n",
       " frozenset({'milk'}): 0.6666666666666666,\n",
       " frozenset({'apple'}): 0.5}"
      ]
     },
     "execution_count": 29,
     "metadata": {},
     "output_type": "execute_result"
    }
   ],
   "source": [
    "print(\" Support: \")\n",
    "support_data1"
   ]
  },
  {
   "cell_type": "code",
   "execution_count": 34,
   "id": "e793a708",
   "metadata": {},
   "outputs": [
    {
     "name": "stdout",
     "output_type": "stream",
     "text": [
      "Create Pair Of product:\n"
     ]
    },
    {
     "data": {
      "text/plain": [
       "[frozenset({'apple', 'milk'}),\n",
       " frozenset({'apple', 'rice'}),\n",
       " frozenset({'apple', 'pulse'}),\n",
       " frozenset({'apple', 'oil'}),\n",
       " frozenset({'milk', 'rice'}),\n",
       " frozenset({'milk', 'pulse'}),\n",
       " frozenset({'milk', 'oil'}),\n",
       " frozenset({'pulse', 'rice'}),\n",
       " frozenset({'oil', 'rice'}),\n",
       " frozenset({'oil', 'pulse'})]"
      ]
     },
     "execution_count": 34,
     "metadata": {},
     "output_type": "execute_result"
    }
   ],
   "source": [
    "C2 = createCk(L1, k=2)\n",
    "print(\"Create Pair Of product:\");\n",
    "C2\n"
   ]
  },
  {
   "cell_type": "code",
   "execution_count": 35,
   "id": "8aad64f6",
   "metadata": {},
   "outputs": [
    {
     "name": "stdout",
     "output_type": "stream",
     "text": [
      " \n",
      "FrozenSet List:\n",
      "\n"
     ]
    },
    {
     "data": {
      "text/plain": [
       "[frozenset({'milk', 'pulse'}),\n",
       " frozenset({'oil', 'pulse'}),\n",
       " frozenset({'oil', 'rice'}),\n",
       " frozenset({'pulse', 'rice'})]"
      ]
     },
     "execution_count": 35,
     "metadata": {},
     "output_type": "execute_result"
    }
   ],
   "source": [
    "L2, support_data2 = scanD(D, C2, min_support)\n",
    "print(\" \\nFrozenSet List:\\n\")\n",
    "L2"
   ]
  },
  {
   "cell_type": "code",
   "execution_count": 36,
   "id": "dbe6db96",
   "metadata": {},
   "outputs": [
    {
     "name": "stdout",
     "output_type": "stream",
     "text": [
      " Support: \n"
     ]
    },
    {
     "data": {
      "text/plain": [
       "{frozenset({'pulse', 'rice'}): 0.6666666666666666,\n",
       " frozenset({'oil', 'rice'}): 0.5,\n",
       " frozenset({'oil', 'pulse'}): 0.6666666666666666,\n",
       " frozenset({'milk', 'pulse'}): 0.5,\n",
       " frozenset({'milk', 'oil'}): 0.3333333333333333,\n",
       " frozenset({'apple', 'milk'}): 0.3333333333333333,\n",
       " frozenset({'milk', 'rice'}): 0.3333333333333333,\n",
       " frozenset({'apple', 'rice'}): 0.3333333333333333,\n",
       " frozenset({'apple', 'pulse'}): 0.3333333333333333,\n",
       " frozenset({'apple', 'oil'}): 0.3333333333333333}"
      ]
     },
     "execution_count": 36,
     "metadata": {},
     "output_type": "execute_result"
    }
   ],
   "source": [
    "\n",
    "print(\" Support: \")\n",
    "support_data2"
   ]
  },
  {
   "cell_type": "code",
   "execution_count": 37,
   "id": "bc2ac2d5",
   "metadata": {},
   "outputs": [
    {
     "name": "stdout",
     "output_type": "stream",
     "text": [
      "Create Pair Of product:\n"
     ]
    },
    {
     "data": {
      "text/plain": [
       "[frozenset({'oil', 'pulse', 'rice'})]"
      ]
     },
     "execution_count": 37,
     "metadata": {},
     "output_type": "execute_result"
    }
   ],
   "source": [
    "C3 = createCk(L2, k=3)\n",
    "print(\"Create Pair Of product:\");\n",
    "C3\n",
    "\n"
   ]
  },
  {
   "cell_type": "code",
   "execution_count": 38,
   "id": "044f3e7c",
   "metadata": {},
   "outputs": [
    {
     "name": "stdout",
     "output_type": "stream",
     "text": [
      " \n",
      "FrozenSet List:\n",
      "\n"
     ]
    },
    {
     "data": {
      "text/plain": [
       "[frozenset({'oil', 'pulse', 'rice'})]"
      ]
     },
     "execution_count": 38,
     "metadata": {},
     "output_type": "execute_result"
    }
   ],
   "source": [
    "print(\" \\nFrozenSet List:\\n\")\n",
    "L3, support_data3 = scanD(D, C3, min_support)\n",
    "L3"
   ]
  },
  {
   "cell_type": "code",
   "execution_count": 39,
   "id": "508612c5",
   "metadata": {},
   "outputs": [
    {
     "name": "stdout",
     "output_type": "stream",
     "text": [
      " Support: \n"
     ]
    },
    {
     "data": {
      "text/plain": [
       "{frozenset({'oil', 'pulse', 'rice'}): 0.5}"
      ]
     },
     "execution_count": 39,
     "metadata": {},
     "output_type": "execute_result"
    }
   ],
   "source": [
    "print(\" Support: \")\n",
    "support_data3"
   ]
  },
  {
   "cell_type": "code",
   "execution_count": null,
   "id": "a820a23f",
   "metadata": {},
   "outputs": [],
   "source": []
  },
  {
   "cell_type": "code",
   "execution_count": null,
   "id": "de5586fd",
   "metadata": {},
   "outputs": [],
   "source": []
  },
  {
   "cell_type": "code",
   "execution_count": null,
   "id": "8013de3a",
   "metadata": {},
   "outputs": [],
   "source": []
  },
  {
   "cell_type": "code",
   "execution_count": null,
   "id": "f9c93bab",
   "metadata": {},
   "outputs": [],
   "source": []
  },
  {
   "cell_type": "code",
   "execution_count": null,
   "id": "249848f6",
   "metadata": {},
   "outputs": [],
   "source": []
  },
  {
   "cell_type": "code",
   "execution_count": null,
   "id": "c42b9a96",
   "metadata": {},
   "outputs": [],
   "source": []
  }
 ],
 "metadata": {
  "kernelspec": {
   "display_name": "Python 3 (ipykernel)",
   "language": "python",
   "name": "python3"
  },
  "language_info": {
   "codemirror_mode": {
    "name": "ipython",
    "version": 3
   },
   "file_extension": ".py",
   "mimetype": "text/x-python",
   "name": "python",
   "nbconvert_exporter": "python",
   "pygments_lexer": "ipython3",
   "version": "3.9.7"
  }
 },
 "nbformat": 4,
 "nbformat_minor": 5
}
